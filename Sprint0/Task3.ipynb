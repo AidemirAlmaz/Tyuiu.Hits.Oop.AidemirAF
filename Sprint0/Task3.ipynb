{
 "cells": [
  {
   "cell_type": "markdown",
   "metadata": {},
   "source": [
    "<h1 style=\"color:DodgerBlue\">Индивидальный проект</h1>"
   ]
  },
  {
   "cell_type": "markdown",
   "metadata": {},
   "source": [
    "<h2 style=\"color:DodgerBlue\">Название проекта:</h2>\n",
    "\n",
    "----\n",
    "\n",
    "### Вариант задания №2\n"
   ]
  },
  {
   "cell_type": "markdown",
   "metadata": {},
   "source": [
    "<h2 style=\"color:DodgerBlue\">Описание проекта:</h2>\n",
    "\n",
    "----\n",
    "\n",
    "Создать базовый класс Student в C#, который будет представлять информацию о\n",
    "студентах. На основе этого класса разработать 2-3 производных класса,\n",
    "демонстрирующих принципы наследования и полиморфизма. В каждом из классов\n",
    "должны быть реализованы новые атрибуты и методы, а также переопределены\n",
    "некоторые методы базового класса для демонстрации полиморфизма.\n"
   ]
  },
  {
   "cell_type": "markdown",
   "metadata": {},
   "source": [
    "<h2 style=\"color:DodgerBlue\">Реализация:</h2>\n",
    "\n",
    "----"
   ]
  },
  {
   "cell_type": "code",
   "execution_count": 17,
   "metadata": {
    "dotnet_interactive": {
     "language": "csharp"
    },
    "polyglot_notebook": {
     "kernelName": "csharp"
    }
   },
   "outputs": [
    {
     "name": "stdout",
     "output_type": "stream",
     "text": [
      "Имя: Алмаз; Возраст: 19; Курс: 2; Специальность: Искусственный интеллект и программирование.\n",
      "Алмаз (бакалавр, специальность: Искусственный интеллект и программирование ) изучает профильные предметы.\n",
      "Алмаз сдает экзамен.\n",
      "\n",
      "Имя: Иван; Возраст: 24; Курс: 1; Научный руководитель: проф.Пупкин.\n",
      "Иван изучает предметы.\n",
      "Иван (магистр) сдает экзамен под наблюдением научного руководителя проф.Пупкин.\n",
      "\n",
      "Имя: Олеся; Возраст: 28; Курс: 3; Тема диссертации: Оптимизация распределенных систем.\n",
      "Олеся (аспирант) изучает материалы, связанные с темой: Оптимизация распределенных систем.\n",
      "Олеся сдает экзамен.\n",
      "\n"
     ]
    }
   ],
   "source": [
    "public class Student\n",
    "{\n",
    "    public string Name { get; set; }\n",
    "    public string Age { get; set; }\n",
    "    public string Course { get; set; }\n",
    "\n",
    "    public Student(string name, string age, string course)\n",
    "    {\n",
    "        Name = name;\n",
    "        Age = age;\n",
    "        Course = course;\n",
    "    }\n",
    "\n",
    "    public virtual string GetInfo()\n",
    "    {\n",
    "        return $\"Имя: {Name}; Возраст: {Age}; Курс: {Course}\"; \n",
    "    }\n",
    "    public virtual void Study()\n",
    "    {\n",
    "        Console.WriteLine($\"{Name} изучает предметы.\");\n",
    "    }\n",
    "    public virtual void TakeExam()\n",
    "    {\n",
    "        Console.WriteLine($\"{Name} сдает экзамен.\");\n",
    "    }\n",
    "}\n",
    "public class BachelorStudent : Student\n",
    "{\n",
    "    public string Specialty{ get; set; }\n",
    "    public BachelorStudent(string name, string age, string course, string specialty)\n",
    "        :base(name, age, course)\n",
    "    {\n",
    "        Specialty = specialty;\n",
    "    }\n",
    "    public override string GetInfo()\n",
    "    {\n",
    "        return base.GetInfo() + $\"; Специальность: {Specialty}.\";\n",
    "    }\n",
    "    public override void Study()\n",
    "    {\n",
    "        Console.WriteLine($\"{Name} (бакалавр, специальность: {Specialty} ) изучает профильные предметы.\");\n",
    "    }\n",
    "}\n",
    "public class MasterStudent : Student\n",
    "{\n",
    "    public string ScientificAdvisor;\n",
    "    public MasterStudent(string name, string age, string course, string advisor)\n",
    "        :base(name, age, course)\n",
    "    {\n",
    "        ScientificAdvisor = advisor;\n",
    "    }\n",
    "    public override string GetInfo()\n",
    "    {\n",
    "        return base.GetInfo() + $\"; Научный руководитель: {ScientificAdvisor}.\";\n",
    "    }\n",
    "    public override void TakeExam()\n",
    "    {\n",
    "        Console.WriteLine($\"{Name} (магистр) сдает экзамен под наблюдением научного руководителя {ScientificAdvisor}.\");\n",
    "    }\n",
    "}\n",
    "public class PhDStudent : Student\n",
    "{\n",
    "    public string DissertationTopic;\n",
    "    public PhDStudent(string name, string age, string course, string topic)\n",
    "        :base(name, age, course)\n",
    "    {\n",
    "        DissertationTopic = topic;\n",
    "    }\n",
    "    public override string GetInfo()\n",
    "    {\n",
    "        return base.GetInfo() + $\"; Тема диссертации: {DissertationTopic}.\";\n",
    "    }\n",
    "    public override void Study()\n",
    "    {\n",
    "        Console.WriteLine($\"{Name} (аспирант) изучает материалы, связанные с темой: {DissertationTopic}.\");\n",
    "    }\n",
    "}\n",
    "Student[] students = new Student[]\n",
    "    {\n",
    "        new BachelorStudent(\"Алмаз\", \"19\", \"2\", \"Искусственный интеллект и программирование\"),\n",
    "        new MasterStudent(\"Иван\", \"24\", \"1\", \"проф.Пупкин\"),\n",
    "        new PhDStudent(\"Олеся\", \"28\", \"3\", \"Оптимизация распределенных систем\")\n",
    "    };\n",
    "foreach (var s in students)\n",
    "    {\n",
    "        Console.WriteLine(s.GetInfo());\n",
    "        s.Study();\n",
    "        s.TakeExam();\n",
    "        Console.WriteLine();\n",
    "    }"
   ]
  }
 ],
 "metadata": {
  "kernelspec": {
   "display_name": ".NET (C#)",
   "language": "C#",
   "name": ".net-csharp"
  },
  "polyglot_notebook": {
   "kernelInfo": {
    "defaultKernelName": "csharp",
    "items": [
     {
      "aliases": [],
      "languageName": "csharp",
      "name": "csharp"
     }
    ]
   }
  }
 },
 "nbformat": 4,
 "nbformat_minor": 2
}
